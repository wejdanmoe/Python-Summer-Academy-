{
 "cells": [
  {
   "cell_type": "code",
   "execution_count": 6,
   "id": "09a8b237",
   "metadata": {},
   "outputs": [
    {
     "name": "stdout",
     "output_type": "stream",
     "text": [
      "Result: 36\n"
     ]
    }
   ],
   "source": [
    "sample_list = [2, 3, 6]\n",
    "\n",
    "def multiply_list(lis_t):\n",
    "    result = 1\n",
    "    \n",
    "    for item in lis_t:\n",
    "        result *= item\n",
    "    return result\n",
    "\n",
    "result = multiply_list(sample_list)\n",
    "print(\"Result:\", result)"
   ]
  },
  {
   "cell_type": "code",
   "execution_count": 7,
   "id": "7985e532",
   "metadata": {},
   "outputs": [
    {
     "name": "stdout",
     "output_type": "stream",
     "text": [
      "Sorted List: [(2, 1), (1, 2), (2, 3), (4, 4), (2, 5)]\n"
     ]
    }
   ],
   "source": [
    "sample_list = [(2, 5), (1, 2), (4, 4), (2, 3), (2, 1)]\n",
    "\n",
    "def sort_list(lis_t):\n",
    "    new_list = sorted(lis_t, key=lambda x:x[-1])\n",
    "    return new_list\n",
    "\n",
    "new_list = sort_list(sample_list)\n",
    "print(\"Sorted List:\", new_list)"
   ]
  },
  {
   "cell_type": "code",
   "execution_count": 16,
   "id": "71d19d7e",
   "metadata": {},
   "outputs": [
    {
     "name": "stdout",
     "output_type": "stream",
     "text": [
      "Combined Dictionary: {'a': 400, 'b': 400, 'c': 300, 'd': 400}\n"
     ]
    }
   ],
   "source": [
    "d1 = {'a':100, 'b':200, 'c':300}\n",
    "d2 = {'a':300, 'b':200, 'd':400}\n",
    "\n",
    "def combine_dicts(d1, d2):\n",
    "    combined_dict = {}\n",
    "    \n",
    "    for key in d1:\n",
    "        if key in d2:\n",
    "            combined_dict[key] = d1[key] + d2[key]\n",
    "        else:\n",
    "            combined_dict[key] = d1[key]\n",
    "            \n",
    "    for key in d2:\n",
    "        if key not in combined_dict:\n",
    "            combined_dict[key] = d2[key]\n",
    "            \n",
    "    return combined_dict\n",
    "\n",
    "combined_dict = combine_dicts(d1, d2)\n",
    "print(\"Combined Dictionary:\", combined_dict)"
   ]
  },
  {
   "cell_type": "code",
   "execution_count": 20,
   "id": "8b2b57db",
   "metadata": {},
   "outputs": [
    {
     "name": "stdout",
     "output_type": "stream",
     "text": [
      "8\n",
      "{1: 1, 2: 4, 3: 9, 4: 16, 5: 25, 6: 36, 7: 49, 8: 64}\n"
     ]
    }
   ],
   "source": [
    "def generate_squared_dict(n):\n",
    "    squared_dict = {}\n",
    "    \n",
    "    for i in range(1, n + 1):\n",
    "        squared_dict[i] = i * i\n",
    "    return squared_dict\n",
    "\n",
    "n = int(input())\n",
    "squared_dict = generate_squared_dict(n)\n",
    "print(squared_dict)"
   ]
  },
  {
   "cell_type": "code",
   "execution_count": 27,
   "id": "ec0848b3",
   "metadata": {},
   "outputs": [
    {
     "name": "stdout",
     "output_type": "stream",
     "text": [
      "Sorted List: [('item3', '24.5'), ('item2', '15.10'), ('item1', '12.20')]\n"
     ]
    }
   ],
   "source": [
    "tuples_list = [('item1', '12.20'), ('item2', '15.10'), ('item3', '24.5')]\n",
    "\n",
    "def sort_tuple(tuples_list):\n",
    "    new_list = sorted(tuples_list, key=lambda x: float(x[1]), reverse = True)\n",
    "    return new_list\n",
    "\n",
    "new_list = sort_tuple(tuples_list)\n",
    "print(\"Sorted List:\", new_list)"
   ]
  },
  {
   "cell_type": "code",
   "execution_count": 33,
   "id": "d0a954b3",
   "metadata": {},
   "outputs": [
    {
     "name": "stdout",
     "output_type": "stream",
     "text": [
      "Set: {0, 1, 2, 3, 4}\n"
     ]
    }
   ],
   "source": [
    "#Creation\n",
    "sample_set = {0, 1, 2, 3, 4}\n",
    "print(\"Set:\", sample_set)"
   ]
  },
  {
   "cell_type": "code",
   "execution_count": 31,
   "id": "34f52aa8",
   "metadata": {},
   "outputs": [
    {
     "name": "stdout",
     "output_type": "stream",
     "text": [
      "0\n",
      "1\n",
      "2\n",
      "3\n",
      "4\n"
     ]
    }
   ],
   "source": [
    "#Iteration\n",
    "sample_set = {0, 1, 2, 3, 4}\n",
    "for i in sample_set:\n",
    "    print(i)"
   ]
  },
  {
   "cell_type": "code",
   "execution_count": 35,
   "id": "649c168e",
   "metadata": {},
   "outputs": [
    {
     "name": "stdout",
     "output_type": "stream",
     "text": [
      "New Set: {0, 1, 2, 3, 4, 5}\n"
     ]
    }
   ],
   "source": [
    "#Addition\n",
    "sample_set = {0, 1, 2, 3, 4}\n",
    "sample_set.add(5)\n",
    "print(\"New Set:\", sample_set)"
   ]
  },
  {
   "cell_type": "code",
   "execution_count": 44,
   "id": "f6e18d3c",
   "metadata": {},
   "outputs": [
    {
     "name": "stdout",
     "output_type": "stream",
     "text": [
      "New Set: {0, 1, 2, 4}\n"
     ]
    }
   ],
   "source": [
    "#Remove\n",
    "sample_set = {0, 1, 2, 3, 4}\n",
    "sample_set.remove(3)\n",
    "print(\"New Set:\", sample_set)"
   ]
  }
 ],
 "metadata": {
  "kernelspec": {
   "display_name": "Python 3 (ipykernel)",
   "language": "python",
   "name": "python3"
  },
  "language_info": {
   "codemirror_mode": {
    "name": "ipython",
    "version": 3
   },
   "file_extension": ".py",
   "mimetype": "text/x-python",
   "name": "python",
   "nbconvert_exporter": "python",
   "pygments_lexer": "ipython3",
   "version": "3.11.3"
  }
 },
 "nbformat": 4,
 "nbformat_minor": 5
}
