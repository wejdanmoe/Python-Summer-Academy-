{
 "cells": [
  {
   "cell_type": "code",
   "execution_count": 9,
   "id": "b7bd0c58",
   "metadata": {
    "scrolled": false
   },
   "outputs": [
    {
     "name": "stdout",
     "output_type": "stream",
     "text": [
      "Enter the number of students: 6\n",
      "Enter the number of subjects: 1\n",
      "Enter marks for students {i+1} in subject {j+1}: 94\n",
      "Enter marks for students {i+1} in subject {j+1}: 87\n",
      "Enter marks for students {i+1} in subject {j+1}: 75\n",
      "Enter marks for students {i+1} in subject {j+1}: 62\n",
      "Enter marks for students {i+1} in subject {j+1}: 53\n",
      "Enter marks for students {i+1} in subject {j+1}: 30\n",
      "\n",
      "Student\tTotal Marks\tPercentage\tGrade\n",
      "---------------------------------------------\n",
      "1\t94.0\t\t94.00%\t\tA+\n",
      "2\t87.0\t\t87.00%\t\tA\n",
      "3\t75.0\t\t75.00%\t\tB+\n",
      "4\t62.0\t\t62.00%\t\tB\n",
      "5\t53.0\t\t53.00%\t\tC\n",
      "6\t30.0\t\t30.00%\t\tF\n"
     ]
    }
   ],
   "source": [
    "import numpy as np\n",
    "\n",
    "num_students = int(input(\"Enter the number of students: \"))\n",
    "num_subjects = int(input(\"Enter the number of subjects: \"))\n",
    "marks_array = np.zeros((num_students, num_subjects))\n",
    "\n",
    "for i in range(num_students):\n",
    "    for j in range(num_subjects):\n",
    "        marks_array[i, j] = float(input(\"Enter marks for students {i+1} in subject {j+1}: \"))\n",
    "        \n",
    "total_marks = np.sum(marks_array, axis=1)\n",
    "percentage = (total_marks / (num_subjects * 100)) * 100\n",
    "\n",
    "def calculate_grade(percentage):\n",
    "    if percentage >=90:\n",
    "        return 'A+'\n",
    "    if percentage >=80:\n",
    "        return 'A'\n",
    "    if percentage >=70:\n",
    "        return 'B+'\n",
    "    if percentage >=60:\n",
    "        return 'B'\n",
    "    if percentage >=50:\n",
    "        return 'C'\n",
    "    else:\n",
    "        return 'F'\n",
    "    \n",
    "print(\"\\nStudent\\tTotal Marks\\tPercentage\\tGrade\")\n",
    "print(\"---------------------------------------------\")\n",
    "for i in range(num_students):\n",
    "    grade = calculate_grade(percentage[i])\n",
    "    print(f\"{i+1}\\t{total_marks[i]}\\t\\t{percentage[i]:.2f}%\\t\\t{grade}\")"
   ]
  }
 ],
 "metadata": {
  "kernelspec": {
   "display_name": "Python 3 (ipykernel)",
   "language": "python",
   "name": "python3"
  },
  "language_info": {
   "codemirror_mode": {
    "name": "ipython",
    "version": 3
   },
   "file_extension": ".py",
   "mimetype": "text/x-python",
   "name": "python",
   "nbconvert_exporter": "python",
   "pygments_lexer": "ipython3",
   "version": "3.11.3"
  }
 },
 "nbformat": 4,
 "nbformat_minor": 5
}
