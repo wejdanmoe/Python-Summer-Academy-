{
 "cells": [
  {
   "cell_type": "code",
   "execution_count": 1,
   "id": "2b0b030a",
   "metadata": {},
   "outputs": [],
   "source": [
    "import tkinter as tk\n",
    "import random\n",
    "\n",
    "def determine_winner(player_choice, comp_choice):\n",
    "    if player_choice == comp_choice:\n",
    "        return \"It's a tie!\"\n",
    "    elif (\n",
    "        (player_choice == \"rock\" and comp_choice == \"scissors\") or\n",
    "        (player_choice == \"paper\" and comp_choice == \"rock\") or\n",
    "        (player_choice == \"scissors\" and comp_choice == \"paper\")\n",
    "    ):\n",
    "        return \"You win!\"\n",
    "    else:\n",
    "        return \"Computer wins!\"\n",
    "\n",
    "def play():\n",
    "    player_choice = user_choice.get().lower()\n",
    "    comp_choices = [\"rock\", \"paper\", \"scissors\"]\n",
    "    comp_choice = random.choice(comp_choices)\n",
    "\n",
    "    result = determine_winner(player_choice, comp_choice)\n",
    "    result_label.config(text=result)\n",
    "\n",
    "window = tk.Tk()\n",
    "window.title(\"Rock Paper Scissors Game\")\n",
    "window.geometry(\"300x300\")\n",
    "\n",
    "window.configure(bg=\"black\")\n",
    "\n",
    "title_label = tk.Label(window, text=\"Rock Paper Scissors\", font=(\"Helvetica\", 16))\n",
    "title_label.pack(pady=10)\n",
    "\n",
    "user_choice = tk.Entry(window, font=(\"Helvetica\", 12))\n",
    "user_choice.pack(pady=10)\n",
    "\n",
    "play_button = tk.Button(window, text=\"Play\", font=(\"Helvetica\", 12), command=play)\n",
    "play_button.pack()\n",
    "\n",
    "result_label = tk.Label(window, text=\"\", font=(\"Helvetica\", 14))\n",
    "result_label.pack(pady=20)\n",
    "\n",
    "window.mainloop()"
   ]
  },
  {
   "cell_type": "code",
   "execution_count": null,
   "id": "fa6bf2b9",
   "metadata": {},
   "outputs": [],
   "source": []
  }
 ],
 "metadata": {
  "kernelspec": {
   "display_name": "Python 3 (ipykernel)",
   "language": "python",
   "name": "python3"
  },
  "language_info": {
   "codemirror_mode": {
    "name": "ipython",
    "version": 3
   },
   "file_extension": ".py",
   "mimetype": "text/x-python",
   "name": "python",
   "nbconvert_exporter": "python",
   "pygments_lexer": "ipython3",
   "version": "3.11.3"
  }
 },
 "nbformat": 4,
 "nbformat_minor": 5
}
