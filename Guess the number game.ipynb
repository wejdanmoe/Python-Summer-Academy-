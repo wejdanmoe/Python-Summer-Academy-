{
 "cells": [
  {
   "cell_type": "code",
   "execution_count": null,
   "id": "59c23d17",
   "metadata": {
    "scrolled": false
   },
   "outputs": [
    {
     "name": "stdout",
     "output_type": "stream",
     "text": [
      "Welcome to the Guess the Number Game!\n",
      "I'm thinking of a number between 1 and 100. Can you guess what it is?\n",
      "Note: You have 8 chances\n"
     ]
    }
   ],
   "source": [
    "import random\n",
    "\n",
    "def guess_number():\n",
    "    secret_number = random.randint(1, 100)\n",
    "    tries = 0\n",
    "    max_tries = 8\n",
    "    \n",
    "    print(\"Welcome to the Guess the Number Game!\")\n",
    "    print(\"I'm thinking of a number between 1 and 100. Can you guess what it is?\")\n",
    "    print(\"Note: You have 8 chances\")\n",
    "    \n",
    "    while tries < max_tries:\n",
    "        guess = int(input(\"Enter your guess\"))\n",
    "        tries += 1\n",
    "        \n",
    "        if guess < secret_number:\n",
    "            print(\"Your guess is too low. Guess again.\")\n",
    "        \n",
    "        elif guess > secret_number:\n",
    "            print(\"Your guess is too high. Guess again.\")\n",
    "            \n",
    "        else:\n",
    "            print(\"Congratulations! You guessed the number correctly!\")\n",
    "            break\n",
    "            \n",
    "    if tries == max_tries:\n",
    "        print(\"Sorry! You have finished your chances :(\")\n",
    "\n",
    "\n",
    "guess_number()"
   ]
  },
  {
   "cell_type": "code",
   "execution_count": null,
   "id": "e0065457",
   "metadata": {},
   "outputs": [],
   "source": []
  }
 ],
 "metadata": {
  "kernelspec": {
   "display_name": "Python 3 (ipykernel)",
   "language": "python",
   "name": "python3"
  },
  "language_info": {
   "codemirror_mode": {
    "name": "ipython",
    "version": 3
   },
   "file_extension": ".py",
   "mimetype": "text/x-python",
   "name": "python",
   "nbconvert_exporter": "python",
   "pygments_lexer": "ipython3",
   "version": "3.11.3"
  }
 },
 "nbformat": 4,
 "nbformat_minor": 5
}
