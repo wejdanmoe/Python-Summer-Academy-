{
 "cells": [
  {
   "cell_type": "code",
   "execution_count": 1,
   "id": "b7bd0c58",
   "metadata": {
    "scrolled": false
   },
   "outputs": [
    {
     "name": "stdout",
     "output_type": "stream",
     "text": [
      "Enter the number of students: 6\n",
      "Enter the number of subjects: 1\n",
      "Enter marks for students {i+1} in subject {j+1}: 97\n",
      "Enter marks for students {i+1} in subject {j+1}: 88\n",
      "Enter marks for students {i+1} in subject {j+1}: 75\n",
      "Enter marks for students {i+1} in subject {j+1}: 64\n",
      "Enter marks for students {i+1} in subject {j+1}: 52\n",
      "Enter marks for students {i+1} in subject {j+1}: 31\n",
      "Enter student name: Ahmed\n",
      "\n",
      "Student Name \tTotal Marks\tPercentage\tGrade\n",
      "------------------------------------------------------\n",
      "  Ahmed       \t97.0\t\t97.00%\t\tA+\n",
      "  Ahmed       \t88.0\t\t88.00%\t\tA\n",
      "  Ahmed       \t75.0\t\t75.00%\t\tB+\n",
      "  Ahmed       \t64.0\t\t64.00%\t\tB\n",
      "  Ahmed       \t52.0\t\t52.00%\t\tC\n",
      "  Ahmed       \t31.0\t\t31.00%\t\tF\n"
     ]
    }
   ],
   "source": [
    "import numpy as np\n",
    "\n",
    "num_students = int(input(\"Enter the number of students: \"))\n",
    "num_subjects = int(input(\"Enter the number of subjects: \"))\n",
    "marks_array = np.zeros((num_students, num_subjects))\n",
    "\n",
    "for i in range(num_students):\n",
    "    for j in range(num_subjects):\n",
    "        marks_array[i, j] = float(input(\"Enter marks for students {i+1} in subject {j+1}: \"))\n",
    "        \n",
    "total_marks = np.sum(marks_array, axis=1)\n",
    "percentage = (total_marks / (num_subjects * 100)) * 100\n",
    "\n",
    "def calculate_grade(percentage):\n",
    "    if percentage >=90:\n",
    "        return 'A+'\n",
    "    if percentage >=80:\n",
    "        return 'A'\n",
    "    if percentage >=70:\n",
    "        return 'B+'\n",
    "    if percentage >=60:\n",
    "        return 'B'\n",
    "    if percentage >=50:\n",
    "        return 'C'\n",
    "    else:\n",
    "        return 'F'\n",
    "student_name = input(\"Enter student name: \")    \n",
    "print(\"\\nStudent Name \\tTotal Marks\\tPercentage\\tGrade\")\n",
    "print(\"------------------------------------------------------\")\n",
    "for i in range(num_students):\n",
    "    grade = calculate_grade(percentage[i])\n",
    "    print(f\"  {student_name}       \\t{total_marks[i]}\\t\\t{percentage[i]:.2f}%\\t\\t{grade}\") "
   ]
  },
  {
   "cell_type": "code",
   "execution_count": null,
   "id": "1d0927ed",
   "metadata": {},
   "outputs": [],
   "source": []
  }
 ],
 "metadata": {
  "kernelspec": {
   "display_name": "Python 3 (ipykernel)",
   "language": "python",
   "name": "python3"
  },
  "language_info": {
   "codemirror_mode": {
    "name": "ipython",
    "version": 3
   },
   "file_extension": ".py",
   "mimetype": "text/x-python",
   "name": "python",
   "nbconvert_exporter": "python",
   "pygments_lexer": "ipython3",
   "version": "3.11.3"
  }
 },
 "nbformat": 4,
 "nbformat_minor": 5
}
