{
 "cells": [
  {
   "cell_type": "code",
   "execution_count": 12,
   "id": "1ae9777b",
   "metadata": {
    "scrolled": true
   },
   "outputs": [
    {
     "name": "stdout",
     "output_type": "stream",
     "text": [
      "(1, 2, 3)\n"
     ]
    }
   ],
   "source": [
    "class Point3D:\n",
    "    def __init__(self, x, y, z):\n",
    "        self.x = x\n",
    "        self.y = y\n",
    "        self.z = z\n",
    "        \n",
    "    def points(self):\n",
    "        return (self.x,self.y,self.z)\n",
    "    \n",
    "my_point = Point3D(1,2,3)\n",
    "\n",
    "print(my_point.points())"
   ]
  },
  {
   "cell_type": "code",
   "execution_count": 13,
   "id": "c69df97f",
   "metadata": {},
   "outputs": [
    {
     "name": "stdout",
     "output_type": "stream",
     "text": [
      "Area: 12\n",
      "Perimeter: 14\n"
     ]
    }
   ],
   "source": [
    "class Rectangle:\n",
    "    def __init__(self, length, width):\n",
    "        self.length = length\n",
    "        self.width = width\n",
    "        \n",
    "    def area(self):\n",
    "        return self.length * self.width\n",
    "    \n",
    "    def perimeter(self):\n",
    "        return 2*(self.length + self.width)\n",
    "    \n",
    "my_rectangle = Rectangle (4,3)\n",
    "\n",
    "area = my_rectangle.area()\n",
    "\n",
    "perimeter = my_rectangle.perimeter()\n",
    "\n",
    "print(\"Area:\", area)\n",
    "print(\"Perimeter:\", perimeter)"
   ]
  },
  {
   "cell_type": "code",
   "execution_count": 11,
   "id": "12e55c11",
   "metadata": {},
   "outputs": [
    {
     "name": "stdout",
     "output_type": "stream",
     "text": [
      "Area: 12.566370614359172\n",
      "Perimeter: 12.566370614359172\n",
      "Is point (3, 4) inside the circle? False\n"
     ]
    }
   ],
   "source": [
    "import math\n",
    "\n",
    "class Circle:\n",
    "    def __init__(self, center_x, center_y, radius):\n",
    "        self.center_x = center_x\n",
    "        self.center_y = center_y\n",
    "        self.radius = radius\n",
    "    \n",
    "    def area(self):\n",
    "        return math.pi * self.radius **2\n",
    "\n",
    "    def perimeter(self):\n",
    "        return 2 * math.pi * self.radius\n",
    "\n",
    "    def inside (self, x, y):\n",
    "        distance = math.sqrt((x - self.center_x) ** 2 + (y - self.center_y) ** 2 )\n",
    "        return distance <= self.radius\n",
    "#Example   \n",
    "circle= Circle(0, 1, 2)\n",
    "print(\"Area:\", circle.area())\n",
    "print(\"Perimeter:\", circle.perimeter())\n",
    "print(\"Is point (3, 4) inside the circle?\", circle.inside(3, 4))"
   ]
  },
  {
   "cell_type": "code",
   "execution_count": 3,
   "id": "68f2826a",
   "metadata": {},
   "outputs": [
    {
     "name": "stdout",
     "output_type": "stream",
     "text": [
      "Initial balance: 1000\n",
      "Depositing $500. New balance: 1500\n",
      "Withdrawing $200. Remaining balance: 1100\n"
     ]
    }
   ],
   "source": [
    "class Bank:\n",
    "    def __init__(self, initial_balance=0):\n",
    "        self.balance = initial_balance\n",
    "        \n",
    "    def deposit(self, amount):\n",
    "        self.balance += amount\n",
    "        return self.balance\n",
    "\n",
    "    def withdraw(self, amount):\n",
    "        if amount <= self.balance:\n",
    "            self.balance -= amount\n",
    "            return self.balance - amount\n",
    "        \n",
    "        else:\n",
    "            return \"Insufficient Money\"\n",
    "\n",
    "#Example\n",
    "account = Bank(1000)\n",
    "print(\"Initial balance:\", account.balance)\n",
    "print(\"Depositing $500. New balance:\", account.deposit(500))\n",
    "print(\"Withdrawing $200. Remaining balance:\", account.withdraw(200))"
   ]
  }
 ],
 "metadata": {
  "kernelspec": {
   "display_name": "Python 3 (ipykernel)",
   "language": "python",
   "name": "python3"
  },
  "language_info": {
   "codemirror_mode": {
    "name": "ipython",
    "version": 3
   },
   "file_extension": ".py",
   "mimetype": "text/x-python",
   "name": "python",
   "nbconvert_exporter": "python",
   "pygments_lexer": "ipython3",
   "version": "3.11.3"
  }
 },
 "nbformat": 4,
 "nbformat_minor": 5
}
