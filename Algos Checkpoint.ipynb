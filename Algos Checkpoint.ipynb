{
 "cells": [
  {
   "cell_type": "code",
   "execution_count": 6,
   "id": "7d6244e4",
   "metadata": {},
   "outputs": [
    {
     "name": "stdout",
     "output_type": "stream",
     "text": [
      "False not found\n",
      "3\n"
     ]
    }
   ],
   "source": [
    "def binary_search(sequence, item):\n",
    "    begin_index = 0\n",
    "    end_index = len(sequence) - 1\n",
    "\n",
    "    while begin_index <= end_index:\n",
    "        midpoint = begin_index + (end_index - begin_index) // 2\n",
    "        midpoint_value = sequence[midpoint]\n",
    "        if midpoint_value == item:\n",
    "            return midpoint\n",
    "\n",
    "        elif item < midpoint_value:\n",
    "            end_index = midpoint - 1\n",
    "\n",
    "        else:\n",
    "            begin_index = midpoint + 1\n",
    "\n",
    "    return \"False not found\"\n",
    "\n",
    "print(binary_search([1,2,3,5,8], 6))\n",
    "print(binary_search([1,2,3,5,8], 5)) "
   ]
  },
  {
   "cell_type": "code",
   "execution_count": 2,
   "id": "bb400cf2",
   "metadata": {},
   "outputs": [
    {
     "name": "stdout",
     "output_type": "stream",
     "text": [
      "81\n"
     ]
    }
   ],
   "source": [
    "def power(a, b):\n",
    "    return a ** b\n",
    "\n",
    "print(power(3, 4))"
   ]
  },
  {
   "cell_type": "code",
   "execution_count": 3,
   "id": "ba925910",
   "metadata": {},
   "outputs": [
    {
     "name": "stdout",
     "output_type": "stream",
     "text": [
      "Sorted array: [13, 22, 29, 37, 46, 49, 52, 56, 71]\n"
     ]
    }
   ],
   "source": [
    "def bubble_sort(arr):\n",
    "    n = len(arr)\n",
    "    for i in range(n):\n",
    "        for j in range(0, n - i - 1):\n",
    "            if arr[j] > arr[j + 1]:\n",
    "                arr[j], arr[j + 1] = arr[j + 1], arr[j]\n",
    "                \n",
    "sample_data = [29,13,22,37,52,49,46,71,56]\n",
    "bubble_sort(sample_data)\n",
    "print(\"Sorted array:\", sample_data)"
   ]
  },
  {
   "cell_type": "code",
   "execution_count": 11,
   "id": "5e9038ba",
   "metadata": {},
   "outputs": [
    {
     "name": "stdout",
     "output_type": "stream",
     "text": [
      "[13, 22, 29, 37, 46, 49, 52, 56, 71]\n"
     ]
    }
   ],
   "source": [
    "def mergeSort(liss):\n",
    "    \n",
    "    #Splitting Phase\n",
    "    \n",
    "    if len(liss) > 1:\n",
    "        mid = len(liss) // 2\n",
    "        left_list=liss[:mid]\n",
    "        right_list=liss[mid:]\n",
    "\n",
    "        mergeSort(left_list)\n",
    "        mergeSort(right_list)\n",
    "        \n",
    "               \n",
    "        #Merging Phase  \n",
    "        \n",
    "        i = 0\n",
    "        j = 0\n",
    "        k = 0\n",
    "        \n",
    "        while i < len(left_list) and j < len(right_list):\n",
    "            if left_list[i] <= right_list[j]:\n",
    "                liss[k] = left_list[i]\n",
    "                i += 1\n",
    "            else:\n",
    "                liss[k] = right_list[j]\n",
    "                j += 1\n",
    "            k += 1\n",
    "\n",
    "            \n",
    "        while i < len(left_list):\n",
    "            liss[k] = left_list[i]\n",
    "            i += 1\n",
    "            k += 1\n",
    "        while j < len(right_list):\n",
    "            liss[k] = right_list[j]\n",
    "            j += 1\n",
    "            k += 1\n",
    "\n",
    "\n",
    "\n",
    "\n",
    "sample_data = [29,13,22,37,52,49,46,71,56]\n",
    "mergeSort(sample_data)\n",
    "print(sample_data)"
   ]
  },
  {
   "cell_type": "code",
   "execution_count": 7,
   "id": "05c5da3c",
   "metadata": {},
   "outputs": [
    {
     "name": "stdout",
     "output_type": "stream",
     "text": [
      "[13, 22, 29, 37, 46, 49, 52, 56, 71]\n"
     ]
    }
   ],
   "source": [
    "def quick_sort(sequence):\n",
    "    length = len(sequence)\n",
    "    if length <= 1:\n",
    "        return sequence\n",
    "    else :\n",
    "        pivot = sequence.pop()\n",
    "    items_greater = []\n",
    "    items_lower = []\n",
    "    for items in sequence:\n",
    "        if items > pivot:\n",
    "            items_greater.append(items)\n",
    "        else:\n",
    "            items_lower.append(items)\n",
    "            \n",
    "    return quick_sort(items_lower) + [pivot] + quick_sort(items_greater)\n",
    "\n",
    "\n",
    "sample_data = [29,13,22,37,52,49,46,71,56]\n",
    "print(quick_sort(sample_data))"
   ]
  }
 ],
 "metadata": {
  "kernelspec": {
   "display_name": "Python 3 (ipykernel)",
   "language": "python",
   "name": "python3"
  },
  "language_info": {
   "codemirror_mode": {
    "name": "ipython",
    "version": 3
   },
   "file_extension": ".py",
   "mimetype": "text/x-python",
   "name": "python",
   "nbconvert_exporter": "python",
   "pygments_lexer": "ipython3",
   "version": "3.11.3"
  }
 },
 "nbformat": 4,
 "nbformat_minor": 5
}
