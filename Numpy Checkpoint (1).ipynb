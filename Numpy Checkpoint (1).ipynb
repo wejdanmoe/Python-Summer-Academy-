{
 "cells": [
  {
   "cell_type": "code",
   "execution_count": 9,
   "id": "b7bd0c58",
   "metadata": {
    "scrolled": false
   },
   "outputs": [
    {
     "name": "stdout",
     "output_type": "stream",
     "text": [
      "Enter the number of students: 2\n",
      "Enter the number of subjects: 1\n",
      "Enter the name of student {i+1}: Ahmed\n",
      "Enter marks for students {i+1} in subject {j+1}: 85\n",
      "Enter the name of student {i+1}: Kl\n",
      "Enter marks for students {i+1} in subject {j+1}: 65\n",
      "\n",
      "Student \tTotal Marks\tPercentage\tGrade\n",
      "------------------------------------------------------\n",
      "  K \t\t85.0\t\t85.00%\t\tA\n",
      "  l \t\t65.0\t\t65.00%\t\tB\n"
     ]
    }
   ],
   "source": [
    "import numpy as np\n",
    "\n",
    "num_students = int(input(\"Enter the number of students: \"))\n",
    "num_subjects = int(input(\"Enter the number of subjects: \"))\n",
    "marks_array = np.zeros((num_students, num_subjects))\n",
    "student_names = []\n",
    "\n",
    "for i in range(num_students):\n",
    "    student_name = input(\"Enter the name of student {i+1}: \")\n",
    "    student_names.append(student_name)\n",
    "    for j in range(num_subjects):\n",
    "        marks_array[i, j] = float(input(\"Enter marks for students {i+1} in subject {j+1}: \"))\n",
    "        \n",
    "total_marks = np.sum(marks_array, axis=1)\n",
    "percentage = (total_marks / (num_subjects * 100)) * 100\n",
    "\n",
    "def calculate_grade(percentage):\n",
    "    if percentage >=90:\n",
    "        return 'A+'\n",
    "    if percentage >=80:\n",
    "        return 'A'\n",
    "    if percentage >=70:\n",
    "        return 'B+'\n",
    "    if percentage >=60:\n",
    "        return 'B'\n",
    "    if percentage >=50:\n",
    "        return 'C'\n",
    "    else:\n",
    "        return 'F'\n",
    "\n",
    "print(\"\\nStudent \\tTotal Marks\\tPercentage\\tGrade\")\n",
    "print(\"------------------------------------------------------\")\n",
    "for i in range(num_students):\n",
    "    grade = calculate_grade(percentage[i])\n",
    "    print(f\"  {student_name[i]} \\t\\t{total_marks[i]}\\t\\t{percentage[i]:.2f}%\\t\\t{grade}\") "
   ]
  }
 ],
 "metadata": {
  "kernelspec": {
   "display_name": "Python 3 (ipykernel)",
   "language": "python",
   "name": "python3"
  },
  "language_info": {
   "codemirror_mode": {
    "name": "ipython",
    "version": 3
   },
   "file_extension": ".py",
   "mimetype": "text/x-python",
   "name": "python",
   "nbconvert_exporter": "python",
   "pygments_lexer": "ipython3",
   "version": "3.11.3"
  }
 },
 "nbformat": 4,
 "nbformat_minor": 5
}
